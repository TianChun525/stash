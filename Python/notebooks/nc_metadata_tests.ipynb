{
 "metadata": {
  "name": ""
 },
 "nbformat": 3,
 "nbformat_minor": 0,
 "worksheets": [
  {
   "cells": [
    {
     "cell_type": "code",
     "collapsed": false,
     "input": [
      "from eotools.geobox import GriddedGeoBox\n",
      "import geopandas\n",
      "import h5py\n",
      "import numpy\n",
      "import rasterio\n",
      "from shapely.geometry import Polygon"
     ],
     "language": "python",
     "metadata": {},
     "outputs": [],
     "prompt_number": 1
    },
    {
     "cell_type": "code",
     "collapsed": false,
     "input": [
      "fname = '/g/data/rs0/tiles/EPSG4326_1deg_0.00025pixel/LS7_ETM/152_-031/2003/LS7_ETM_NBAR_152_-031_2003-10-01T23-31-17.727244.tif'\n",
      "fname_nc = '/g/data2/uc0/rs0_dev/ingester_0/combined_152_-31.nc'"
     ],
     "language": "python",
     "metadata": {},
     "outputs": [],
     "prompt_number": 2
    },
    {
     "cell_type": "code",
     "collapsed": false,
     "input": [
      "fid = h5py.File(fname_nc, 'r')"
     ],
     "language": "python",
     "metadata": {},
     "outputs": [],
     "prompt_number": 3
    },
    {
     "cell_type": "markdown",
     "metadata": {},
     "source": [
      "I'll retrieve the `GriddedGeoBox` that contains all the spatial information and representation of the image."
     ]
    },
    {
     "cell_type": "code",
     "collapsed": false,
     "input": [
      "with rasterio.open(fname, 'r') as src:\n",
      "    gb = GriddedGeoBox.from_rio_dataset(src)"
     ],
     "language": "python",
     "metadata": {},
     "outputs": [],
     "prompt_number": 4
    },
    {
     "cell_type": "code",
     "collapsed": false,
     "input": [
      "print \"Upper Left: {}\".format(gb.ul)\n",
      "print \"Upper Right: {}\".format(gb.ur)\n",
      "print \"Lower Right: {}\".format(gb.lr)\n",
      "print \"Lower Left: {}\".format(gb.ll)"
     ],
     "language": "python",
     "metadata": {},
     "outputs": [
      {
       "output_type": "stream",
       "stream": "stdout",
       "text": [
        "Upper Left: (152.0, -30.0)\n",
        "Upper Right: (153.0, -30.0)\n",
        "Lower Right: (153.0, -31.0)\n",
        "Lower Left: (152.0, -31.0)\n"
       ]
      }
     ],
     "prompt_number": 5
    },
    {
     "cell_type": "markdown",
     "metadata": {},
     "source": [
      "The extent information doesn't look correct for a 1.0 degree grid.  The  edges of the pixels should line up with the 1.0 degree grid, and be equivalent to those listed above."
     ]
    },
    {
     "cell_type": "code",
     "collapsed": false,
     "input": [
      "fid.attrs.items()"
     ],
     "language": "python",
     "metadata": {},
     "outputs": [
      {
       "metadata": {},
       "output_type": "pyout",
       "prompt_number": 6,
       "text": [
        "[(u'geospatial_lon_min', array([ 152.])),\n",
        " (u'geospatial_lat_units', 'degrees_north'),\n",
        " (u'spatial_coverage', '1.000000 degrees grid'),\n",
        " (u'geospatial_lon_units', 'degrees_east'),\n",
        " (u'summary',\n",
        "  'These files are experimental, short lived, and the format will change.'),\n",
        " (u'product_version', '0.0.0'),\n",
        " (u'geospatial_lat_max', array([-30.])),\n",
        " (u'source',\n",
        "  'This data is a reprojection and retile of Landsat surface reflectance scene data available from /g/data/rs0/scenes/'),\n",
        " (u'title',\n",
        "  'Experimental Data files From the Australian Geoscience Data Cube - DO NOT USE'),\n",
        " (u'geospatial_lon_resolution', '0.00025'),\n",
        " (u'geospatial_lon_max', array([ 152.99975])),\n",
        " (u'Conventions', 'CF-1.6'),\n",
        " (u'history', 'NetCDF-CF file created 20151028.'),\n",
        " (u'geospatial_lat_min', array([-30.99975])),\n",
        " (u'geospatial_lat_resolution', '0.00025'),\n",
        " (u'date_created', '2015-10-28T14:37:28.401312'),\n",
        " (u'license', 'Creative Commons Attribution 4.0 International CC BY 4.0')]"
       ]
      }
     ],
     "prompt_number": 6
    },
    {
     "cell_type": "code",
     "collapsed": false,
     "input": [
      "nc_ul = (fid.attrs['geospatial_lon_min'][0], fid.attrs['geospatial_lat_max'][0])\n",
      "nc_ur = (fid.attrs['geospatial_lon_max'][0], fid.attrs['geospatial_lat_max'][0])\n",
      "nc_lr = (fid.attrs['geospatial_lon_max'][0], fid.attrs['geospatial_lat_min'][0])\n",
      "nc_ll = (fid.attrs['geospatial_lon_min'][0], fid.attrs['geospatial_lat_min'][0])"
     ],
     "language": "python",
     "metadata": {},
     "outputs": [],
     "prompt_number": 7
    },
    {
     "cell_type": "code",
     "collapsed": false,
     "input": [
      "base_poly = Polygon([gb.ul, gb.ur, gb.lr, gb.ll, gb.ul])\n",
      "nc_poly = Polygon([nc_ul, nc_ur, nc_lr, nc_ll, nc_ul])"
     ],
     "language": "python",
     "metadata": {},
     "outputs": [],
     "prompt_number": 8
    },
    {
     "cell_type": "markdown",
     "metadata": {},
     "source": [
      "Just to illustrate the different extents between the two files, i'll plot the bounding boxes."
     ]
    },
    {
     "cell_type": "code",
     "collapsed": false,
     "input": [
      "gs = geopandas.GeoSeries([base_poly, nc_poly])"
     ],
     "language": "python",
     "metadata": {},
     "outputs": [],
     "prompt_number": 9
    },
    {
     "cell_type": "code",
     "collapsed": false,
     "input": [
      "f = figure()\n",
      "a = axes()\n",
      "a.set_xlim(152.995, 153.002)\n",
      "a.set_ylim(-31.004, -30.995)\n",
      "gs.plot(axes=a)"
     ],
     "language": "python",
     "metadata": {},
     "outputs": [
      {
       "metadata": {},
       "output_type": "pyout",
       "prompt_number": 10,
       "text": [
        "<matplotlib.axes.AxesSubplot at 0x5407f50>"
       ]
      },
      {
       "metadata": {},
       "output_type": "display_data",
       "png": "[encoded data removed]",
       "text": [
        "<matplotlib.figure.Figure at 0x5407a50>"
       ]
      }
     ],
     "prompt_number": 10
    },
    {
     "cell_type": "markdown",
     "metadata": {},
     "source": [
      "The resolution appears to be off as well. From the `longitude` array, we don't have an equally spaced grid, i.e. differing pixel sizes."
     ]
    },
    {
     "cell_type": "code",
     "collapsed": false,
     "input": [
      "print fid['longitude'][1] - fid['longitude'][0]\n",
      "print fid['longitude'][2] - fid['longitude'][1]"
     ],
     "language": "python",
     "metadata": {},
     "outputs": [
      {
       "output_type": "stream",
       "stream": "stdout",
       "text": [
        "0.000244141\n",
        "0.000259399\n"
       ]
      }
     ],
     "prompt_number": 11
    },
    {
     "cell_type": "code",
     "collapsed": false,
     "input": [
      "fid['longitude'][1:11] - fid['longitude'][0:10]"
     ],
     "language": "python",
     "metadata": {},
     "outputs": [
      {
       "metadata": {},
       "output_type": "pyout",
       "prompt_number": 12,
       "text": [
        "array([ 0.00024414,  0.0002594 ,  0.00024414,  0.0002594 ,  0.00024414,\n",
        "        0.00024414,  0.0002594 ,  0.00024414,  0.00024414,  0.0002594 ], dtype=float32)"
       ]
      }
     ],
     "prompt_number": 12
    },
    {
     "cell_type": "markdown",
     "metadata": {},
     "source": [
      "The `latitude` isn't as bad."
     ]
    },
    {
     "cell_type": "code",
     "collapsed": false,
     "input": [
      "numpy.abs(fid['latitude'][1:11] - fid['latitude'][0:10])"
     ],
     "language": "python",
     "metadata": {},
     "outputs": [
      {
       "metadata": {},
       "output_type": "pyout",
       "prompt_number": 13,
       "text": [
        "array([ 0.00024986,  0.00024986,  0.00024986,  0.00024986,  0.00024986,\n",
        "        0.00024986,  0.00025177,  0.00024986,  0.00024986,  0.00024986], dtype=float32)"
       ]
      }
     ],
     "prompt_number": 13
    },
    {
     "cell_type": "code",
     "collapsed": false,
     "input": [
      "fid['latitude'][7] -fid['latitude'][6]"
     ],
     "language": "python",
     "metadata": {},
     "outputs": [
      {
       "metadata": {},
       "output_type": "pyout",
       "prompt_number": 14,
       "text": [
        "-0.00025177002"
       ]
      }
     ],
     "prompt_number": 14
    },
    {
     "cell_type": "markdown",
     "metadata": {},
     "source": [
      "Another note, the pixel sizes as represented by the `longitude` and `latitude` arrays, don't match that given by the `global` attributes."
     ]
    },
    {
     "cell_type": "code",
     "collapsed": false,
     "input": [
      "print \"Pixel size x: {}\".format(fid.attrs['geospatial_lon_resolution'])\n",
      "print \"Pixel size y: {}\".format(fid.attrs['geospatial_lat_resolution'])"
     ],
     "language": "python",
     "metadata": {},
     "outputs": [
      {
       "output_type": "stream",
       "stream": "stdout",
       "text": [
        "Pixel size x: 0.00025\n",
        "Pixel size y: 0.00025\n"
       ]
      }
     ],
     "prompt_number": 15
    },
    {
     "cell_type": "markdown",
     "metadata": {},
     "source": [
      "The `longitude` arrays should be determined from the `centre of pixel`."
     ]
    },
    {
     "cell_type": "code",
     "collapsed": false,
     "input": [
      "fid['longitude'][0:10]"
     ],
     "language": "python",
     "metadata": {},
     "outputs": [
      {
       "metadata": {},
       "output_type": "pyout",
       "prompt_number": 16,
       "text": [
        "array([ 152.        ,  152.00024414,  152.00050354,  152.00074768,\n",
        "        152.00100708,  152.00125122,  152.00149536,  152.00175476,\n",
        "        152.0019989 ,  152.00224304], dtype=float32)"
       ]
      }
     ],
     "prompt_number": 16
    },
    {
     "cell_type": "code",
     "collapsed": false,
     "input": [
      "print \"UL of UL pixel: {}\".format(gb.convert_coordinates((0, 0)))\n",
      "print \"Centre of UL pixel: {}\".format(gb.convert_coordinates((0, 0), centre=True))"
     ],
     "language": "python",
     "metadata": {},
     "outputs": [
      {
       "output_type": "stream",
       "stream": "stdout",
       "text": [
        "UL of UL pixel: (152.0, -30.0)\n",
        "Centre of UL pixel: (152.000125, -30.000125)\n"
       ]
      }
     ],
     "prompt_number": 17
    },
    {
     "cell_type": "markdown",
     "metadata": {},
     "source": [
      "Making use of the `affine` transformation attached to the `GriddedGeoBox` for a quick co-ordinate transformation to derive the `lon` and `lat` arrays that contain the `centre of pixel` co-ordinates."
     ]
    },
    {
     "cell_type": "code",
     "collapsed": false,
     "input": [
      "img_x = numpy.arange(0.5, gb.get_shape_xy()[0], 0.5)\n",
      "img_y = numpy.arange(0.5, gb.get_shape_xy()[1], 0.5)\n",
      "map_x, map_y = (img_x, img_y) * gb.affine\n",
      "print map_x\n",
      "print map_y"
     ],
     "language": "python",
     "metadata": {},
     "outputs": [
      {
       "output_type": "stream",
       "stream": "stdout",
       "text": [
        "[ 152.000125  152.00025   152.000375 ...,  152.999625  152.99975\n",
        "  152.999875]\n",
        "[-30.000125 -30.00025  -30.000375 ..., -30.999625 -30.99975  -30.999875]\n"
       ]
      }
     ],
     "prompt_number": 18
    },
    {
     "cell_type": "markdown",
     "metadata": {},
     "source": [
      "The `GriddedGeoBox` may be of some use for ingestion, read/write etc.\n",
      "We use it all through `NBAR` and `WOfS` as a container for the spatial information, grid size, extents, image to map, map to image, co-ordinate system transformations, representing any given image, whether that be the whole image or just a subset."
     ]
    }
   ],
   "metadata": {}
  }
 ]
}