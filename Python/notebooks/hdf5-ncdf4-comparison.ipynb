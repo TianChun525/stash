{
 "metadata": {
  "name": ""
 },
 "nbformat": 3,
 "nbformat_minor": 0,
 "worksheets": [
  {
   "cells": [
    {
     "cell_type": "code",
     "collapsed": false,
     "input": [
      "import numpy\n",
      "import h5py\n",
      "import netCDF4\n",
      "from eotools.tiling import generate_tiles"
     ],
     "language": "python",
     "metadata": {},
     "outputs": [],
     "prompt_number": 1
    },
    {
     "cell_type": "code",
     "collapsed": false,
     "input": [
      "h5_lzf_fname = '/g/data/v10/testing_ground/jps547/file_tests/hdf5/cell_146_-34_LS5_LS7_lzf.h5'\n",
      "h5_gzip_fname = '/g/data/v10/testing_ground/jps547/file_tests/hdf5/cell_146_-34_LS5_LS7_gzip.h5'\n",
      "nc_gzip_fname = '/g/data/v10/testing_ground/jps547/file_tests/netcdf/cell_146_-34_LS5_LS7_gzip.nc'"
     ],
     "language": "python",
     "metadata": {},
     "outputs": [],
     "prompt_number": 2
    },
    {
     "cell_type": "code",
     "collapsed": false,
     "input": [
      "h5_lzf = h5py.File(h5_lzf_fname, 'r')\n",
      "h5_gzip = h5py.File(h5_gzip_fname, 'r')\n",
      "nc_gzip = netCDF4.Dataset(nc_gzip_fname, 'r')"
     ],
     "language": "python",
     "metadata": {},
     "outputs": [],
     "prompt_number": 3
    },
    {
     "cell_type": "code",
     "collapsed": false,
     "input": [
      "h5_lzf_nir = h5_lzf['data/NEAR_INFRARED']\n",
      "h5_gzip_nir = h5_gzip['data/NEAR_INFRARED']\n",
      "nc_gzip_nir = nc_gzip.variables['NEAR_INFRARED']"
     ],
     "language": "python",
     "metadata": {},
     "outputs": [],
     "prompt_number": 4
    },
    {
     "cell_type": "code",
     "collapsed": false,
     "input": [
      "dims = h5_lzf_nir.shape\n",
      "chunks = h5_lzf_nir.chunks"
     ],
     "language": "python",
     "metadata": {},
     "outputs": [],
     "prompt_number": 5
    },
    {
     "cell_type": "code",
     "collapsed": false,
     "input": [
      "tiles = generate_tiles(dims[2], dims[1], chunks[2], chunks[1], generator=False)\n",
      "z_tiles = generate_tiles(dims[0], 1, chunks[0], 1, generator=False)\n",
      "z_tiles = [chunk[1] for chunk in z_tiles]"
     ],
     "language": "python",
     "metadata": {},
     "outputs": [],
     "prompt_number": 6
    },
    {
     "cell_type": "code",
     "collapsed": false,
     "input": [
      "tile = tiles[665]\n",
      "ys, ye = tile[0]\n",
      "xs, xe = tile[1]\n",
      "zs, ze = z_tiles[15]"
     ],
     "language": "python",
     "metadata": {},
     "outputs": [],
     "prompt_number": 7
    },
    {
     "cell_type": "heading",
     "level": 3,
     "metadata": {},
     "source": [
      "Some performance comparisons between `gzip` (`hdf5` & `netCDF4`) and `lzf` (`hdf5`) compression algorithms."
     ]
    },
    {
     "cell_type": "markdown",
     "metadata": {},
     "source": [
      "All depth/time for a single spatial tile which matches an actual chunked block"
     ]
    },
    {
     "cell_type": "code",
     "collapsed": false,
     "input": [
      "%timeit h5_lzf_nir[:, ys:ye, xs:xe]"
     ],
     "language": "python",
     "metadata": {},
     "outputs": [
      {
       "output_type": "stream",
       "stream": "stdout",
       "text": [
        "10 loops, best of 3: 55.9 ms per loop\n"
       ]
      }
     ],
     "prompt_number": 8
    },
    {
     "cell_type": "code",
     "collapsed": false,
     "input": [
      "%timeit h5_gzip_nir[:, ys:ye, xs:xe]"
     ],
     "language": "python",
     "metadata": {},
     "outputs": [
      {
       "output_type": "stream",
       "stream": "stdout",
       "text": [
        "10 loops, best of 3: 118 ms per loop\n"
       ]
      }
     ],
     "prompt_number": 9
    },
    {
     "cell_type": "code",
     "collapsed": false,
     "input": [
      "%timeit nc_gzip_nir[:, ys:ye, xs:xe]"
     ],
     "language": "python",
     "metadata": {},
     "outputs": [
      {
       "output_type": "stream",
       "stream": "stdout",
       "text": [
        "10 loops, best of 3: 156 ms per loop\n"
       ]
      }
     ],
     "prompt_number": 10
    },
    {
     "cell_type": "markdown",
     "metadata": {},
     "source": [
      "All x & y dimensions for the 16th depth tile/chunk"
     ]
    },
    {
     "cell_type": "code",
     "collapsed": false,
     "input": [
      "%timeit h5_lzf_nir[zs:ze, :, :]"
     ],
     "language": "python",
     "metadata": {},
     "outputs": [
      {
       "output_type": "stream",
       "stream": "stdout",
       "text": [
        "1 loops, best of 3: 2.32 s per loop\n"
       ]
      }
     ],
     "prompt_number": 11
    },
    {
     "cell_type": "code",
     "collapsed": false,
     "input": [
      "%timeit h5_gzip_nir[zs:ze, :, :]"
     ],
     "language": "python",
     "metadata": {},
     "outputs": [
      {
       "output_type": "stream",
       "stream": "stdout",
       "text": [
        "1 loops, best of 3: 4.27 s per loop\n"
       ]
      }
     ],
     "prompt_number": 12
    },
    {
     "cell_type": "code",
     "collapsed": false,
     "input": [
      "%timeit nc_gzip_nir[zs:ze, :, :]"
     ],
     "language": "python",
     "metadata": {},
     "outputs": [
      {
       "output_type": "stream",
       "stream": "stdout",
       "text": [
        "1 loops, best of 3: 5.22 s per loop\n"
       ]
      }
     ],
     "prompt_number": 13
    },
    {
     "cell_type": "markdown",
     "metadata": {},
     "source": [
      "Read blocks that contain partial chunks"
     ]
    },
    {
     "cell_type": "code",
     "collapsed": false,
     "input": [
      "pys = 3128\n",
      "pye = 4408\n",
      "pxs = 3128\n",
      "pxe = 4408"
     ],
     "language": "python",
     "metadata": {},
     "outputs": [],
     "prompt_number": 14
    },
    {
     "cell_type": "code",
     "collapsed": false,
     "input": [
      "idx = numpy.arange(0, 1000, 33)\n",
      "print idx"
     ],
     "language": "python",
     "metadata": {},
     "outputs": [
      {
       "output_type": "stream",
       "stream": "stdout",
       "text": [
        "[  0  33  66  99 132 165 198 231 264 297 330 363 396 429 462 495 528 561\n",
        " 594 627 660 693 726 759 792 825 858 891 924 957 990]\n"
       ]
      }
     ],
     "prompt_number": 15
    },
    {
     "cell_type": "code",
     "collapsed": false,
     "input": [
      "%timeit h5_lzf_nir[zs:ze, pys:pye, pxs:pxe]"
     ],
     "language": "python",
     "metadata": {},
     "outputs": [
      {
       "output_type": "stream",
       "stream": "stdout",
       "text": [
        "10 loops, best of 3: 102 ms per loop\n"
       ]
      }
     ],
     "prompt_number": 16
    },
    {
     "cell_type": "code",
     "collapsed": false,
     "input": [
      "%timeit h5_gzip_nir[zs:ze, pys:pye, pxs:pxe]"
     ],
     "language": "python",
     "metadata": {},
     "outputs": [
      {
       "output_type": "stream",
       "stream": "stdout",
       "text": [
        "1 loops, best of 3: 209 ms per loop\n"
       ]
      }
     ],
     "prompt_number": 17
    },
    {
     "cell_type": "code",
     "collapsed": false,
     "input": [
      "%timeit nc_gzip_nir[zs:ze, pys:pye, pxs:pxe]"
     ],
     "language": "python",
     "metadata": {},
     "outputs": [
      {
       "output_type": "stream",
       "stream": "stdout",
       "text": [
        "1 loops, best of 3: 243 ms per loop\n"
       ]
      }
     ],
     "prompt_number": 18
    },
    {
     "cell_type": "markdown",
     "metadata": {},
     "source": [
      "Let's try reading the `netCDF4` file using the `h5py` library."
     ]
    },
    {
     "cell_type": "code",
     "collapsed": false,
     "input": [
      "nc_gzip_nir = None\n",
      "nc_gzip = None"
     ],
     "language": "python",
     "metadata": {},
     "outputs": [],
     "prompt_number": 19
    },
    {
     "cell_type": "code",
     "collapsed": false,
     "input": [
      "h5_nc_gzip = h5py.File(nc_gzip_fname, 'r')\n",
      "h5_nc_gzip_nir = h5_nc_gzip['NEAR_INFRARED']"
     ],
     "language": "python",
     "metadata": {},
     "outputs": [],
     "prompt_number": 20
    },
    {
     "cell_type": "code",
     "collapsed": false,
     "input": [
      "%timeit h5_nc_gzip_nir[:, ys:ye, xs:xe]"
     ],
     "language": "python",
     "metadata": {},
     "outputs": [
      {
       "output_type": "stream",
       "stream": "stdout",
       "text": [
        "10 loops, best of 3: 119 ms per loop\n"
       ]
      }
     ],
     "prompt_number": 21
    },
    {
     "cell_type": "code",
     "collapsed": false,
     "input": [
      "%timeit h5_nc_gzip_nir[zs:ze, :, :]"
     ],
     "language": "python",
     "metadata": {},
     "outputs": [
      {
       "output_type": "stream",
       "stream": "stdout",
       "text": [
        "1 loops, best of 3: 4.42 s per loop\n"
       ]
      }
     ],
     "prompt_number": 22
    },
    {
     "cell_type": "code",
     "collapsed": false,
     "input": [
      "%timeit h5_nc_gzip_nir[zs:ze, pys:pye, pxs:pxe]"
     ],
     "language": "python",
     "metadata": {},
     "outputs": [
      {
       "output_type": "stream",
       "stream": "stdout",
       "text": [
        "1 loops, best of 3: 204 ms per loop\n"
       ]
      }
     ],
     "prompt_number": 23
    },
    {
     "cell_type": "code",
     "collapsed": false,
     "input": [
      "h5_nc_gzip = None\n",
      "h5_nc_gzip_nir = None"
     ],
     "language": "python",
     "metadata": {},
     "outputs": [],
     "prompt_number": 24
    },
    {
     "cell_type": "code",
     "collapsed": false,
     "input": [],
     "language": "python",
     "metadata": {},
     "outputs": []
    }
   ],
   "metadata": {}
  }
 ]
}