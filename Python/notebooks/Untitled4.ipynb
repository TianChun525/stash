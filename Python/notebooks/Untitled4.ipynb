{
 "metadata": {
  "name": ""
 },
 "nbformat": 3,
 "nbformat_minor": 0,
 "worksheets": [
  {
   "cells": [
    {
     "cell_type": "code",
     "collapsed": false,
     "input": [
      "from EOtools.DatasetDrivers.stacked_dataset import StackedDataset\n",
      "from EOtools.DatasetDrivers.stacked_dataset import write_band_tile\n",
      "from EOtools import profiles\n",
      "from EOtools import coordinates\n",
      "from EOtools import pq_utils\n",
      "from EOtools.band_math import band_math\n",
      "from IDL_functions import bytscl\n",
      "from IDL_functions import hist_equal\n",
      "import matplotlib.cm as cm\n",
      "import pandas\n",
      "from datetime import datetime\n",
      "from osgeo import gdal\n",
      "from image_processing.segmentation.rasterise import Rasterise\n",
      "from image_processing.segmentation.segmentation import SegmentVisitor"
     ],
     "language": "python",
     "metadata": {},
     "outputs": [],
     "prompt_number": 1
    },
    {
     "cell_type": "code",
     "collapsed": false,
     "input": [
      "nbar_nir = StackedDataset('/short/v10/jps547/DcubeDemo/cubby/NBAR_147_-029_NIR.vrt')"
     ],
     "language": "python",
     "metadata": {},
     "outputs": [],
     "prompt_number": 2
    },
    {
     "cell_type": "code",
     "collapsed": false,
     "input": [
      "outfname = \"/short/v10/jps547/DcubeDemo/cubby/nir_stats_bands_1_through_10_test\"\n",
      "nbar_nir.z_axis_stats(out_fname=outfname, raster_bands=range(1, 11))"
     ],
     "language": "python",
     "metadata": {},
     "outputs": [],
     "prompt_number": "*"
    },
    {
     "cell_type": "code",
     "collapsed": false,
     "input": [],
     "language": "python",
     "metadata": {},
     "outputs": []
    }
   ],
   "metadata": {}
  }
 ]
}