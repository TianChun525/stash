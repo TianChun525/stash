{
 "metadata": {
  "name": ""
 },
 "nbformat": 3,
 "nbformat_minor": 0,
 "worksheets": [
  {
   "cells": [
    {
     "cell_type": "code",
     "collapsed": false,
     "input": [
      "from datetime import date\n",
      "import json\n",
      "import matplotlib.cm as cm\n",
      "import numpy\n",
      "import ogr\n",
      "import pandas\n",
      "from datacube.api.model import DatasetType, Satellite, BANDS\n",
      "from datacube.api.query import list_tiles_as_list, list_tiles_wkt\n",
      "from datacube.api.utils import get_dataset_data, get_dataset_metadata, get_dataset_data_stack, DEFAULT_MASK_PQA\n",
      "from eotools.coordinates import convert_coordinates\n",
      "from glue import qglue"
     ],
     "language": "python",
     "metadata": {},
     "outputs": [],
     "prompt_number": 21
    },
    {
     "cell_type": "code",
     "collapsed": false,
     "input": [
      "vec_fname = '/g/data2/v10/testing_ground/jps547/api-transects/LBG-transect_redo.shp'\n",
      "vec_ds = ogr.Open(vec_fname)\n",
      "layer = vec_ds.GetLayer(0)\n",
      "feat = layer.GetFeature(0)\n",
      "ref = feat.GetGeometryRef()"
     ],
     "language": "python",
     "metadata": {},
     "outputs": [],
     "prompt_number": 4
    },
    {
     "cell_type": "code",
     "collapsed": false,
     "input": [
      "dataset_types = [DatasetType.ARG25, DatasetType.WATER, DatasetType.FC25, DatasetType.PQ25]\n",
      "min_date = date(2008, 01, 01)\n",
      "max_date = date(2012, 12, 31)\n",
      "satellites = [Satellite(i) for i in ['LS5', 'LS7', 'LS8']]\n",
      "years = range(min_date.year, max_date.year+1)"
     ],
     "language": "python",
     "metadata": {},
     "outputs": [],
     "prompt_number": 5
    },
    {
     "cell_type": "code",
     "collapsed": false,
     "input": [
      "tiles = list_tiles_wkt(ref.ExportToWkt(), satellites=satellites, years=years, datasets=dataset_types)"
     ],
     "language": "python",
     "metadata": {},
     "outputs": [],
     "prompt_number": 6
    },
    {
     "cell_type": "code",
     "collapsed": false,
     "input": [
      "timestamps = []\n",
      "for tile in tiles:\n",
      "    timestamps.append(tile.start_datetime)"
     ],
     "language": "python",
     "metadata": {},
     "outputs": [],
     "prompt_number": 7
    },
    {
     "cell_type": "code",
     "collapsed": false,
     "input": [
      "tile_zero = tiles[0]\n",
      "nbar_ds = tile_zero.datasets[DatasetType.ARG25]\n",
      "bands = nbar_ds.bands\n",
      "metadata = get_dataset_metadata(nbar_ds)\n",
      "geotransform = metadata.transform\n",
      "cell_x = tile_zero.x\n",
      "cell_y = tile_zero.y\n",
      "print \"Lower left corner of cell\\n x: {x}, y: {y}\".format(x=cell_x, y=cell_y)"
     ],
     "language": "python",
     "metadata": {},
     "outputs": [
      {
       "output_type": "stream",
       "stream": "stdout",
       "text": [
        "Lower left corner of cell\n",
        " x: 149, y: -36\n"
       ]
      }
     ],
     "prompt_number": 12
    },
    {
     "cell_type": "code",
     "collapsed": false,
     "input": [
      "extent = layer.GetExtent()\n",
      "print \"Extent: {}\".format(extent)"
     ],
     "language": "python",
     "metadata": {},
     "outputs": [
      {
       "output_type": "stream",
       "stream": "stdout",
       "text": [
        "Extent: (149.0741875, 149.152125, -35.30675, -35.2864375)\n"
       ]
      }
     ],
     "prompt_number": 10
    },
    {
     "cell_type": "code",
     "collapsed": false,
     "input": [
      "UL_map_xy = (extent[0], extent[3])\n",
      "LR_map_xy = (extent[1], extent[2])\n",
      "UL_imgx, UL_imgy = convert_coordinates(geotransform, UL_map_xy, to_map=False)\n",
      "LR_imgx, LR_imgy = convert_coordinates(geotransform, LR_map_xy, to_map=False)\n",
      "roi_tile = ((UL_imgy, LR_imgy), (UL_imgx, LR_imgx))\n",
      "print \"ROI subset: {}\".format(roi_tile)"
     ],
     "language": "python",
     "metadata": {},
     "outputs": [
      {
       "output_type": "stream",
       "stream": "stdout",
       "text": [
        "ROI subset: ((1145, 1227), (296, 608))\n"
       ]
      }
     ],
     "prompt_number": 13
    },
    {
     "cell_type": "code",
     "collapsed": false,
     "input": [
      "ys, ye = roi_tile[0]\n",
      "xs, xe = roi_tile[1]\n",
      "ysize = ye - ys\n",
      "xsize = xe - xs\n",
      "print \"xsize: {}\".format(xsize)\n",
      "print \"ysize: {}\".format(ysize)"
     ],
     "language": "python",
     "metadata": {},
     "outputs": [
      {
       "output_type": "stream",
       "stream": "stdout",
       "text": [
        "xsize: 312\n",
        "ysize: 82\n"
       ]
      }
     ],
     "prompt_number": 18
    },
    {
     "cell_type": "code",
     "collapsed": false,
     "input": [
      "nir = numpy.array(get_dataset_data_stack(tiles, DatasetType.ARG25, bands.NEAR_INFRARED.name, x=xs, y=ys, x_size=xsize,\n",
      "                                         y_size=ysize, mask_pqa_apply=True, mask_pqa_mask=DEFAULT_MASK_PQA), dtype='float32')"
     ],
     "language": "python",
     "metadata": {},
     "outputs": [],
     "prompt_number": 31
    },
    {
     "cell_type": "code",
     "collapsed": false,
     "input": [
      "red = numpy.array(get_dataset_data_stack(tiles, DatasetType.ARG25, bands.RED.name, x=xs, y=ys, x_size=xsize,\n",
      "                                         y_size=ysize, mask_pqa_apply=True, mask_pqa_mask=DEFAULT_MASK_PQA), dtype='float32')"
     ],
     "language": "python",
     "metadata": {},
     "outputs": [],
     "prompt_number": 32
    },
    {
     "cell_type": "code",
     "collapsed": false,
     "input": [
      "green = numpy.array(get_dataset_data_stack(tiles, DatasetType.ARG25, bands.GREEN.name, x=xs, y=ys, x_size=xsize,\n",
      "                                           y_size=ysize, mask_pqa_apply=True, mask_pqa_mask=DEFAULT_MASK_PQA), dtype='float32')"
     ],
     "language": "python",
     "metadata": {},
     "outputs": [],
     "prompt_number": 33
    },
    {
     "cell_type": "code",
     "collapsed": false,
     "input": [
      "nir[nir == -999] = numpy.nan\n",
      "red[red == -999] = numpy.nan\n",
      "green[green == -999] = numpy.nan"
     ],
     "language": "python",
     "metadata": {},
     "outputs": [],
     "prompt_number": 34
    },
    {
     "cell_type": "code",
     "collapsed": false,
     "input": [
      "nir = nir[:, ::-1, :]\n",
      "red = red[:, ::-1, :]\n",
      "green = green[:, ::-1, :]"
     ],
     "language": "python",
     "metadata": {},
     "outputs": [],
     "prompt_number": 35
    },
    {
     "cell_type": "code",
     "collapsed": false,
     "input": [
      "qglue(nir=nir, red=red, green=green)"
     ],
     "language": "python",
     "metadata": {},
     "outputs": [
      {
       "metadata": {},
       "output_type": "pyout",
       "prompt_number": 36,
       "text": [
        "<glue.qt.glue_application.GlueApplication at 0x6936348>"
       ]
      }
     ],
     "prompt_number": 36
    },
    {
     "cell_type": "code",
     "collapsed": false,
     "input": [],
     "language": "python",
     "metadata": {},
     "outputs": []
    }
   ],
   "metadata": {}
  }
 ]
}