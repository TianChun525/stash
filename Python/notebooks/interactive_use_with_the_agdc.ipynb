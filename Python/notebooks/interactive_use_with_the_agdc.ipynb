{
 "metadata": {
  "name": ""
 },
 "nbformat": 3,
 "nbformat_minor": 0,
 "worksheets": [
  {
   "cells": [
    {
     "cell_type": "heading",
     "level": 1,
     "metadata": {},
     "source": [
      "Interactive use with the AGDC"
     ]
    },
    {
     "cell_type": "heading",
     "level": 2,
     "metadata": {},
     "source": [
      "Table of Contents:"
     ]
    },
    {
     "cell_type": "markdown",
     "metadata": {},
     "source": [
      "* [Reading data](#Reading-data)\n",
      "    - [Subsets using self generated tiled/chunked subsets](#subset-self-generated-tiles)\n",
      "    - [Subsets using a user defined tile/chunk](#subset-user-defined-tile)\n",
      "        - [2D tile](#2D-tile)\n",
      "        - [3D tile](#3D-tile)\n",
      "            - [All raster bands](#all-raster-bands)\n",
      "            - [Ordered sequential subset of raster bands](#sequential-bands-subset)\n",
      "            - [Non-sequential subset of raster bands](#non-sequentual-bands-subset)\n",
      "    - [Displaying images](#displaying-images)\n",
      "* [Extracting metadata](#extracting-metadata)\n",
      "    - [Available metadata](#available-metadata)\n",
      "    - [Datetime](#datetime)\n",
      "        - [Using the datetime information](#using-datetime-info)\n",
      "            - [Yearly iterator](#yearly-iterator)\n",
      "            - [Other potential cases](#other-potential-cases)\n",
      "* [Profiles](#profiles)\n",
      "    - [Horizontal](#horizontal)\n",
      "    - [Vertical](#vertical)\n",
      "    - [Z-axis](#z-axis)\n",
      "    - [Arbitrary (transects)](#arbitrary)\n",
      "* [Pixel Quality](#pixel-quality)\n",
      "    - [Customising flags](#customising-flags)\n",
      "    - [Extracting flags](#extracting-flags)\n",
      "        - [2D PQ extraction](#2d-pq-extraction)\n",
      "        - [3D PQ extraction](#3d-pq-extraction)\n",
      "    - [Applying flags to another dataset](#applying-flags)\n",
      "        - [2D Masked data](#2d-masked-data)\n",
      "        - [3D Masked data](#3d-masked-data)\n",
      "* [Statistics](#stats)\n",
      "    - [All raster bands](#stats-all-bands)\n",
      "    - [Sequential subset of raster bands](#stats-sequential-bands)\n",
      "    - [Non-sequential subset of raster bands](#stats-non-sequential-bands)\n",
      "* [Tiled/chunked array math](#tiled-math)\n",
      "    - [User defined tile/chunk size](#user-defined-tile-size)\n",
      "    - [Default tile/chunk size](#default-tile-size)\n",
      "    - [NDVI example](#ndvi-example)\n",
      "* [Fractional Cover example](#fc-example)\n",
      "* [WoFS example](#wofs-example)\n",
      "* [Polygon analysis (Arc's Zonal statistics)](#polygon-stats)"
     ]
    },
    {
     "cell_type": "heading",
     "level": 2,
     "metadata": {},
     "source": [
      "Reading data\n",
      "<a id='Reading-data'></a>"
     ]
    },
    {
     "cell_type": "markdown",
     "metadata": {},
     "source": [
      "All data read from disk will be handled automatically when using the StackedDataset class construct.  The simplest case for reading data is to simply tell the ***read_raster_band*** function which band you wish to read into memory.\n",
      "First lets import all the Python modules that we'll need to use for this demonstration, and then we'll create a StackedDataset for the NIR time series vrt file."
     ]
    },
    {
     "cell_type": "code",
     "collapsed": false,
     "input": [
      "from EOtools.DatasetDrivers.stacked_dataset import StackedDataset\n",
      "from EOtools.DatasetDrivers.stacked_dataset import write_band_tile\n",
      "from EOtools import profiles\n",
      "from EOtools import coordinates\n",
      "from EOtools import pq_utils\n",
      "from IDL_functions import bytscl\n",
      "from IDL_functions import hist_equal\n",
      "import matplotlib.cm as cm\n",
      "import pandas"
     ],
     "language": "python",
     "metadata": {},
     "outputs": []
    },
    {
     "cell_type": "code",
     "collapsed": false,
     "input": [
      "nbar_nir = StackedDataset('/short/v10/jps547/DcubeDemo/cubby/NBAR_147_-029_NIR.vrt')"
     ],
     "language": "python",
     "metadata": {},
     "outputs": []
    },
    {
     "cell_type": "markdown",
     "metadata": {},
     "source": [
      "To get an idea of what is contained in the **nbar_nir** image, we'll access some of the internal information."
     ]
    },
    {
     "cell_type": "code",
     "collapsed": false,
     "input": [
      "print nbar_nir.samples # Number of columns\n",
      "print nbar_nir.lines # Number of rows\n",
      "print nbar_nir.n_bands # Number of raster bands\n",
      "print nbar_nir.n_tiles # Number of 2D tiles/chunks that cover the [lines, samples] extent\n",
      "print nbar_nir.projection # Co-ordinate reference system\n",
      "print nbar_nir.geotransform # Upper left corner tie point"
     ],
     "language": "python",
     "metadata": {},
     "outputs": []
    },
    {
     "cell_type": "markdown",
     "metadata": {},
     "source": [
      "To read the 10th time slice from this file, we'll use the ***read_raster_band*** function and save the image to a variable named **ts_10** (time slice *10*)."
     ]
    },
    {
     "cell_type": "code",
     "collapsed": false,
     "input": [
      "ts_10 = nbar_nir.read_raster_band(10)\n",
      "print ts_10.shape"
     ],
     "language": "python",
     "metadata": {},
     "outputs": []
    },
    {
     "cell_type": "markdown",
     "metadata": {},
     "source": [
      "What we've just read from disk into memory is the 10th raster band which is made up of *4000* lines/rows by *4000* samples/columns."
     ]
    },
    {
     "cell_type": "heading",
     "level": 3,
     "metadata": {},
     "source": [
      "Subsets using self generated tiled/chunked subsets\n",
      "<a id='subset-self-generated-tiles'></a>"
     ]
    },
    {
     "cell_type": "markdown",
     "metadata": {},
     "source": [
      "Alternatively, we can also read a subset of the 2D image by utilising the inbuilt tiling/chunking mechanism of the StackedDataset.  First we'll ask for the first tile/chunk in the list, and then use it to return the image area covered by that tile."
     ]
    },
    {
     "cell_type": "code",
     "collapsed": false,
     "input": [
      "tile = nbar_nir.get_tile(0)\n",
      "subset = nbar_nir.read_tile(tile, 10)\n",
      "print tile\n",
      "print subset.shape"
     ],
     "language": "python",
     "metadata": {},
     "outputs": []
    },
    {
     "cell_type": "markdown",
     "metadata": {},
     "source": [
      "As we can see from the output of the print statements, we've read the first *10* lines of band *10*, with each line containing *4000* samples."
     ]
    },
    {
     "cell_type": "heading",
     "level": 3,
     "metadata": {},
     "source": [
      "Subsets using a user defined tile/chunk\n",
      "<a id='subset-user-defined-tile'></a>"
     ]
    },
    {
     "cell_type": "heading",
     "level": 4,
     "metadata": {},
     "source": [
      "2D tile\n",
      "<a id='2D-tile'></a>"
     ]
    },
    {
     "cell_type": "markdown",
     "metadata": {},
     "source": [
      "We can also create our own tile and subsequently read a user defined subset.  The tile takes on the form ((*y_start*, *y_end*), (*x_start*, *x_end*)) image co-ordinates."
     ]
    },
    {
     "cell_type": "code",
     "collapsed": false,
     "input": [
      "subset_2D = nbar_nir.read_tile(((2440, 3198), (2760, 3821)), 10)\n",
      "print subset_2D.shape"
     ],
     "language": "python",
     "metadata": {},
     "outputs": []
    },
    {
     "cell_type": "markdown",
     "metadata": {},
     "source": [
      "If you don't know the image co-ordinates, you can also specify map co-ordinates based on the images projection/CRS, which in this case is WGS84 Longitude/Latitude, and use the ***convert_coordinates*** function to convert from lon/lat co-ordinates to image co-ordinates."
     ]
    },
    {
     "cell_type": "code",
     "collapsed": false,
     "input": [
      "print coordinates.convert_coordinates(nbar_nir.geotransform, (lon, lat), to_map=False)\n",
      "print coordinates.convert_coordinates(nbar_nir.geotransform, (lon, lat), to_map=False)\n",
      "custom_tile = ((, ), (, ))"
     ],
     "language": "python",
     "metadata": {},
     "outputs": []
    },
    {
     "cell_type": "heading",
     "level": 4,
     "metadata": {},
     "source": [
      "3D tile\n",
      "<a id='3D-tile'></a>"
     ]
    },
    {
     "cell_type": "heading",
     "level": 5,
     "metadata": {},
     "source": [
      "All raster bands\n",
      "<a id='all-raster-bands'></a>"
     ]
    },
    {
     "cell_type": "markdown",
     "metadata": {},
     "source": [
      "To read a 3D tile/chunk we can use the inbuilt ***read_tile_all_rasters*** function, and like before simply specify the tile.  In this case we'll use the first tile, but this can also be user defined like the above example."
     ]
    },
    {
     "cell_type": "code",
     "collapsed": false,
     "input": [
      "subset_3D = nbar_nir.read_tile_all_rasters(tile)\n",
      "print subset_3D.shape\n",
      "print nbar_nir.n_bands"
     ],
     "language": "python",
     "metadata": {},
     "outputs": []
    },
    {
     "cell_type": "heading",
     "level": 5,
     "metadata": {},
     "source": [
      "Ordered sequential subset of raster bands\n",
      "<a id='#sequential-bands-subset'></a>"
     ]
    },
    {
     "cell_type": "markdown",
     "metadata": {},
     "source": [
      "We can also read only a small portion , let's say bands *10* to *20*."
     ]
    },
    {
     "cell_type": "code",
     "collapsed": false,
     "input": [
      "bands_list = range(10, 21)\n",
      "print bands_list\n",
      "subset_3D = nbar_nir.read_tile(tile, raster_bands=bands_list)\n",
      "print subset_3D.shape"
     ],
     "language": "python",
     "metadata": {},
     "outputs": []
    },
    {
     "cell_type": "heading",
     "level": 4,
     "metadata": {},
     "source": [
      "Non-sequential subset of raster bands\n",
      "<a id='non-sequentual-bands-subset'></a>"
     ]
    },
    {
     "cell_type": "markdown",
     "metadata": {},
     "source": [
      "Now take for example, that bands *10, 20, 30, 40, 50, 60* correspond to the month of January for the years *1998, 1999, 2000, 2001, 2002, 2003*.  We can read exactly that simply by providing a list containing those bands."
     ]
    },
    {
     "cell_type": "code",
     "collapsed": false,
     "input": [
      "bands_list = range(10, 61, 10)\n",
      "print bands_list\n",
      "subset_3D = nbar_nir.read_tile(tile, raster_bands=bands_list)\n",
      "print subset_3D.shape"
     ],
     "language": "python",
     "metadata": {},
     "outputs": []
    },
    {
     "cell_type": "heading",
     "level": 3,
     "metadata": {},
     "source": [
      "Displaying images\n",
      "<a id='displaying-images'></a>"
     ]
    },
    {
     "cell_type": "markdown",
     "metadata": {},
     "source": [
      "As we've launched this IPython session using pylab, most of the ***matplotlib*** functions are directly callable with requiring the user to import them beforehand.  To display an image we simply call ***imshow***(*my_image*).  We'll use the grey scale mapping as it looks better.  We'll display the 2D subset that we defined earlier via the user defined tile."
     ]
    },
    {
     "cell_type": "code",
     "collapsed": false,
     "input": [
      "imshow(subset_2D, cmap=cm.Greys_r)\n",
      "axis('image') # Displays the image right to the borders edge"
     ],
     "language": "python",
     "metadata": {},
     "outputs": []
    },
    {
     "cell_type": "markdown",
     "metadata": {},
     "source": [
      "We can also apply some basic contrast enhancements to the image.  Here we'll use a histogram equalisation stretch and a 2% linear stretch."
     ]
    },
    {
     "cell_type": "code",
     "collapsed": false,
     "input": [
      "he_stretch = hist_equal(subset_2D, MinV=0)\n",
      "pct2_stretch = hist_equal(subset_2D, MinV=0, Percent=2)\n",
      "fig, axes = subplots(ncols=2)\n",
      "axes[0].imshow(he_stretch, cmap=cm.Greys_r)\n",
      "axes[0].axis('image')\n",
      "axes[0].set_title('Histogram Equalisation')\n",
      "axes[1].imshow(pct2_stretch, cmap=cm.Greys_r)\n",
      "axes[1].axis('image')\n",
      "axes[1].set_title('Linear 2%')"
     ],
     "language": "python",
     "metadata": {},
     "outputs": []
    },
    {
     "cell_type": "heading",
     "level": 2,
     "metadata": {},
     "source": [
      "Extracting metadata\n",
      "<a id='extracting-metadata'></a>"
     ]
    },
    {
     "cell_type": "heading",
     "level": 3,
     "metadata": {},
     "source": [
      "Available metadata\n",
      "<a id='available-metadata'></a>"
     ]
    },
    {
     "cell_type": "markdown",
     "metadata": {},
     "source": [
      "Metadata (if it exists) can be extracted using the ***get_raster_band_metadata*** function and supplying a raster band for which to extract the metadata from.  Here we'll get the metadata associated with band *66*.  The metadata available will depend on who and what created the data.  In this case, the metadata was generated by the AGDC."
     ]
    },
    {
     "cell_type": "code",
     "collapsed": false,
     "input": [
      "print nbar_nir.get_raster_band_metadata(66)"
     ],
     "language": "python",
     "metadata": {},
     "outputs": []
    },
    {
     "cell_type": "heading",
     "level": 3,
     "metadata": {},
     "source": [
      "Datetime\n",
      "<a id='datetime'></a>"
     ]
    },
    {
     "cell_type": "markdown",
     "metadata": {},
     "source": [
      "The vrt image data generated from our database query generally contains acquisition datetime information and can be accessed using the ***get_raster_band_datetime*** function.  In this example we'll retrieve the datetime info for band *66*."
     ]
    },
    {
     "cell_type": "code",
     "collapsed": false,
     "input": [
      "print nbar_nir.get_raster_band_datetime(66)"
     ],
     "language": "python",
     "metadata": {},
     "outputs": []
    },
    {
     "cell_type": "heading",
     "level": 4,
     "metadata": {},
     "source": [
      "Using the datetime information\n",
      "<a id='using-datetime-info'></a>"
     ]
    },
    {
     "cell_type": "heading",
     "level": 5,
     "metadata": {},
     "source": [
      "Yearly iterator\n",
      "<a id='yearly-iterator'></a>"
     ]
    },
    {
     "cell_type": "markdown",
     "metadata": {},
     "source": [
      "A useful application of the datetime information is to define periods of interest.  For instance if we wanted to calculate yearly means, we could generate lists of the band numbers that are grouped by years.  There is an inbuilt function for this called ***init_yearly_iterator*** which initialises the bands grouped by year, and the result is retrieved via the ***get_yearly_iterator*** routine."
     ]
    },
    {
     "cell_type": "code",
     "collapsed": false,
     "input": [
      "nbar_nir.init_yearly_iterator()\n",
      "print nbar_nir.get_yearly_iterator()"
     ],
     "language": "python",
     "metadata": {},
     "outputs": []
    },
    {
     "cell_type": "heading",
     "level": 5,
     "metadata": {},
     "source": [
      "Other potential cases\n",
      "<a id='other-potential-cases'></a>"
     ]
    },
    {
     "cell_type": "markdown",
     "metadata": {},
     "source": [
      "The yearly iterator is merely an example of how the datetime information can be manipulated in order to group the bands according to some rule.  Another example might be to group by season, or group by month.  Each band list can then be fed directly into the ***read_tile*** function in order to read the data associated with the datetimes of interest."
     ]
    },
    {
     "cell_type": "heading",
     "level": 2,
     "metadata": {},
     "source": [
      "Profiles\n",
      "<a id='profiles'></a>"
     ]
    },
    {
     "cell_type": "markdown",
     "metadata": {},
     "source": [
      "Profiles of an image return 1D arrays that represent the pixel values located under the profile line."
     ]
    },
    {
     "cell_type": "heading",
     "level": 3,
     "metadata": {},
     "source": [
      "Horizontal\n",
      "<a id='horizontal'></a>"
     ]
    },
    {
     "cell_type": "markdown",
     "metadata": {},
     "source": [
      "A horizontal profile are the pixel values along the entire x-axis, in our case all the samples/columns for a given line/row.  The line and sample is seleted via an input co-ordinate tuple (*x*, *y*), that can be either map co-ordinates or image co-ordinates."
     ]
    },
    {
     "cell_type": "code",
     "collapsed": false,
     "input": [
      "x_prf1 = profiles.x_profile(nbar_nir, (2812, 3091))"
     ],
     "language": "python",
     "metadata": {},
     "outputs": []
    },
    {
     "cell_type": "code",
     "collapsed": false,
     "input": [
      "x_prf2 = profiles.x_profile(nbar_nir, (lon, lat), from_map=True)"
     ],
     "language": "python",
     "metadata": {},
     "outputs": []
    },
    {
     "cell_type": "markdown",
     "metadata": {},
     "source": [
      "Using pandas, we'll construct a DataFrame to hold the two profiles and plot them directly."
     ]
    },
    {
     "cell_type": "code",
     "collapsed": false,
     "input": [
      "dfx = pandas.DataFrame()\n",
      "dfx['x_profile_1'] = x_prf1\n",
      "dfx['x_profile_2'] = x_prf2\n",
      "dfx.plot()"
     ],
     "language": "python",
     "metadata": {},
     "outputs": []
    },
    {
     "cell_type": "markdown",
     "metadata": {},
     "source": [
      "Using the pandas library, it is simple to save the profiles to disk.  In order to give the profile some meaningful information other than just a profile, we'll also store the image and real world co-ordinates associated with the profiles.  There are several output formats, but for this example we'll export to an Excel spreadsheet.\n",
      "First we'll convert the map co-ordinate example to get the line/row index.\n",
      "Finally we'll convert every image co-ordinate to a real world co-ordinate."
     ]
    },
    {
     "cell_type": "code",
     "collapsed": false,
     "input": [
      "x_img, y_img = coordinates.convert_coordinates(nbar_nir.geotransform, (lon, lat), to_map=False)\n",
      "xy_img_prf1 = [(x, 3091) for x in range(nbar_nir.samples)]\n",
      "xy_map_prf1 = coordinates.convert_coordinates(nbar_nir.geotransform, xy_img_prf1)\n",
      "xy_map_prf1 = numpy.array(xy_map_prf1)\n",
      "xy_img_prf2 = [(x, y_img) for x in range(nbar_nir.samples)]\n",
      "xy_map_prf2 = coordinates.convert_coordinates(nbar_nir.geotransform, xy_img_prf2)\n",
      "xy_map_prf2 = numpy.array(xy_map_prf2)"
     ],
     "language": "python",
     "metadata": {},
     "outputs": []
    },
    {
     "cell_type": "markdown",
     "metadata": {},
     "source": [
      "Now assign the image and map co-ordinates to the data frame."
     ]
    },
    {
     "cell_type": "code",
     "collapsed": false,
     "input": [
      "dfx['image_x_profile_1'] = numpy.arange(nbar_nir.samples)\n",
      "dfx['image_y_profile_1'] = numpy.zeros(nbar_nir.samples, dtype='int') # A blank array\n",
      "dfx['image_y_profile_1'][:] = 3091 # Fill the blank array\n",
      "dfx['map_x_profile_1'] = xy_map_prf1[:, 0]\n",
      "dfx['map_y_profile_1'] = xy_map_prf1[:, 1]\n",
      "dfx['image_x_profile_2'] = numpy.arange(nbar_nir.samples)\n",
      "dfx['image_y_profile_2'] = numpy.zeros(nbar_nir.samples, dtype='int') # A blank array\n",
      "dfx['image_y_profile_2'][:] = y_img # Fill the blank array\n",
      "dfx['map_x_profile_1'] = xy_map_prf2[:, 0]\n",
      "dfx['map_y_profile_1'] = xy_map_prf2[:, 1]"
     ],
     "language": "python",
     "metadata": {},
     "outputs": []
    },
    {
     "cell_type": "markdown",
     "metadata": {},
     "source": [
      "Now to save the file to an Excel spreadsheet, which we'll call '*Horizontal_profiles.xls*'."
     ]
    },
    {
     "cell_type": "code",
     "collapsed": false,
     "input": [
      "dfx.to_excel('Horizontal_profiles.xls')"
     ],
     "language": "python",
     "metadata": {},
     "outputs": []
    },
    {
     "cell_type": "markdown",
     "metadata": {},
     "source": [
      "We can also display a profile on the image itself.  For this example we'll plot the first profile on the subset image, **subset_2D**, we created earlier, as well as the profile data associated with the subset.  But to do so, we'll need to account for the starting x and y locations (essentially an offset) of the image subset.  Our subset was defined by *((2440, 3198), (2760, 3821))* which resembles the *((y_start, y_end), (x_start, x_end))* image locations."
     ]
    },
    {
     "cell_type": "code",
     "collapsed": false,
     "input": [
      "x_prf1_subset = x_prf1[2760:3821] # Subset to the section that is covered by our image subset\n",
      "y_offset = 3091 - 2440 # profile co-ordinate y minus the y_start co-ordinate of the subset"
     ],
     "language": "python",
     "metadata": {},
     "outputs": []
    },
    {
     "cell_type": "code",
     "collapsed": false,
     "input": [
      "fig, axes = subplots(nrows=2)\n",
      "axes[0].imshow(subset_2D, cmap=cm.Greys_r)\n",
      "axes[0].plot([0, subset_2D.shape[1]], [y_offset, y_offset], 'r-')\n",
      "axes[0].axis('image')\n",
      "axes[1].plot(x_prf1_subset)"
     ],
     "language": "python",
     "metadata": {},
     "outputs": []
    },
    {
     "cell_type": "heading",
     "level": 3,
     "metadata": {},
     "source": [
      "Vertical\n",
      "<a id='vertial'></a>"
     ]
    },
    {
     "cell_type": "markdown",
     "metadata": {},
     "source": [
      "A vertical profile are the pixel values along the entire y-axis, in our case all the lines/rows for a given sample/column.  The line and sample is seleted via an input co-ordinate tuple (*x*, *y*), that can be either map co-ordinates or image co-ordinates."
     ]
    },
    {
     "cell_type": "code",
     "collapsed": false,
     "input": [
      "y_prf = profiles.y_profile(nbar_nir, (2812, 3091))"
     ],
     "language": "python",
     "metadata": {},
     "outputs": []
    },
    {
     "cell_type": "markdown",
     "metadata": {},
     "source": [
      "Construct a DataFrame to hold the vertical profile and plot it."
     ]
    },
    {
     "cell_type": "code",
     "collapsed": false,
     "input": [
      "dfy = pandas.DataFrame()\n",
      "dfy'y_profile'] = y_prf\n",
      "dfy.plot()"
     ],
     "language": "python",
     "metadata": {},
     "outputs": []
    },
    {
     "cell_type": "markdown",
     "metadata": {},
     "source": [
      "Calculate the image and map co-ordinates and add them to the data frame."
     ]
    },
    {
     "cell_type": "code",
     "collapsed": false,
     "input": [
      "dfy['image_x'] = numpy.zeros(nbar_nir.lines, dtype='int') # A blank array\n",
      "dfy['image_x'][:] = 2812 # Fill the blank array\n",
      "dfy['image_y'] = numpy.arange(nbar_nir.lines)\n",
      "xy_img = [(2812, y) for y in range(nbar_nir.lines)]\n",
      "xy_map = coordinates.numpy.array(xy_map)\n",
      "dfy['map_x'] = xy_map[:, 0]\n",
      "dfy['map_y'] = xy_map[:, 1]"
     ],
     "language": "python",
     "metadata": {},
     "outputs": []
    },
    {
     "cell_type": "markdown",
     "metadata": {},
     "source": [
      "Now to save the file to an Excel spreadsheet, which we'll call '*Vertical_profile.xls*'."
     ]
    },
    {
     "cell_type": "code",
     "collapsed": false,
     "input": [
      "dfx.to_excel('Vertical_profile.xls')"
     ],
     "language": "python",
     "metadata": {},
     "outputs": []
    },
    {
     "cell_type": "markdown",
     "metadata": {},
     "source": [
      "Similar to the horizontal profile before, we can plot the profile over the image subset, **subset_2D**, along with a subset of the profile.  We'll use the same logic as before to calculate the offsets but this time for the x-axis.  Remember that our subset was defined by *((2440, 3198), (2760, 3821))* which resembles the *((y_start, y_end), (x_start, x_end))* image locations."
     ]
    },
    {
     "cell_type": "code",
     "collapsed": false,
     "input": [
      "y_prf_subset = y_prf[2440:3198] # Subset to the section that is covered by image subset\n",
      "x_offset = 2812 - 2760 # profile co-ordinate x minus the x_start co-ordinate of the subset"
     ],
     "language": "python",
     "metadata": {},
     "outputs": []
    },
    {
     "cell_type": "code",
     "collapsed": false,
     "input": [
      "fig, axes = subplots(nrows=2)\n",
      "axes[0].imshow(subset_2D, cmap=cm.Greys_r)\n",
      "axes[0].plot([x_offset, x_offset], [0, subset_2D.shape[0]], 'r-')\n",
      "axes[0].axis('image')\n",
      "axes[1].plot(y_prf_subset)"
     ],
     "language": "python",
     "metadata": {},
     "outputs": []
    },
    {
     "cell_type": "heading",
     "level": 3,
     "metadata": {},
     "source": [
      "Z-axis\n",
      "<a id='z-axis'></a>"
     ]
    },
    {
     "cell_type": "markdown",
     "metadata": {},
     "source": [
      "A z profile, like the horizontal and vertical profiles, will also return a 1D array, but the values represent each raster band for a single pixel location.  For example, if the raster bands represent time, then the values represent a time series for a given pixel.  The pixel location is seleted via an input co-ordinate tuple (*x*, *y*), that can be either map co-ordinates or image co-ordinates."
     ]
    },
    {
     "cell_type": "code",
     "collapsed": false,
     "input": [
      "z_prf1 = profiles.z_profile(nbar_nir, (147.7747745267, -28.7048193), from_map=True)"
     ],
     "language": "python",
     "metadata": {},
     "outputs": []
    },
    {
     "cell_type": "markdown",
     "metadata": {},
     "source": [
      "The above expression will return the entire z-axis profile for that location.  But we can also specify bands of interest, either sequentially i.e. *10, 11, 12, 13, 14* or non-sequentially i.e. *10, 20, 30, 40*.  In the next example we'll get the profile for bands *50* up to and including *75*."
     ]
    },
    {
     "cell_type": "code",
     "collapsed": false,
     "input": [
      "z_prf2 = profiles.z_profile(nbar_nir, (147.7747745267, -28.7048193), from_map=True, raster_bands=range(50, 76))"
     ],
     "language": "python",
     "metadata": {},
     "outputs": []
    },
    {
     "cell_type": "markdown",
     "metadata": {},
     "source": [
      "The z profile will most likely contain no data values, which for ***NBAR*** data is *-999*.  In order to exclude them from our plot, we'll convert any no data values to *NaN's* (IEEE Not a Number).  First we'll convert the profile to float64, then find any no data values and swap them for *NaN's*."
     ]
    },
    {
     "cell_type": "code",
     "collapsed": false,
     "input": [
      "z_prf = z_prf1.astype('float64')\n",
      "z_prf[z_prf == nbar_nir.no_data] = numpy.nan\n",
      "plot(z_prf)"
     ],
     "language": "python",
     "metadata": {},
     "outputs": []
    },
    {
     "cell_type": "markdown",
     "metadata": {},
     "source": [
      "We'll now save the z profile to disk by creating a pandas DataFrame.  We'll also add some extra information such as the band numbers and datetime associated with each observation in the profile.\n",
      "First we'll construct a list of datetimes for each band using the ***get_raster_band_datetime*** function we explored previously in the metadata extraction section."
     ]
    },
    {
     "cell_type": "code",
     "collapsed": false,
     "input": [
      "dt = []\n",
      "for i in range(1, nbar_nir.bands + 1):\n",
      "    dt.append(nbar_nir.get_raster_band_datetime(raster_band=i)"
     ],
     "language": "python",
     "metadata": {},
     "outputs": []
    },
    {
     "cell_type": "markdown",
     "metadata": {},
     "source": [
      "We'll specify the index of the data frame to be the list of datetimes.  This allows the plotting of the time series to automatically use the datetime as the x axis."
     ]
    },
    {
     "cell_type": "code",
     "collapsed": false,
     "input": [
      "dfz = pandas.DataFrame(data=z_prf, index=dt)\n",
      "dfz.plot()"
     ],
     "language": "python",
     "metadata": {},
     "outputs": []
    },
    {
     "cell_type": "markdown",
     "metadata": {},
     "source": [
      "Add the band numbers to the dataframe and save to an Excel file on disk with the name '*Z_profile.xls*'."
     ]
    },
    {
     "cell_type": "code",
     "collapsed": false,
     "input": [
      "dfz['band_numbers'] = numpy.arange(1, nbar_nir.bands + 1)\n",
      "dfz.to_excel('Z_profile.xls')"
     ],
     "language": "python",
     "metadata": {},
     "outputs": []
    },
    {
     "cell_type": "heading",
     "level": 3,
     "metadata": {},
     "source": [
      "Arbitrary (transects)\n",
      "<a id='arbitrary'></a>"
     ]
    },
    {
     "cell_type": "markdown",
     "metadata": {},
     "source": [
      "An arbitrary profile is defined by a series of points connected by a straight line.  Pixels that are located under that line are used to create the profile.  We'll first define a set of points using map co-ordinates, but like the horizontal and vertical profiles, we can also specify the co-ordinates as image co-ordinates.  Our transects will look similar to an upside down v.  We'll extract 2 profiles from band *666*.  The first will use nearest neighbour interpolation, and the second will use cubic convolution."
     ]
    },
    {
     "cell_type": "code",
     "collapsed": false,
     "input": [
      "points = ((147.7297184, -28.7330315), (147.7767451, -28.7013765), (147.8196495, -28.6874205))\n",
      "transect_NN, idx, xy_start_end = profiles.arbitrary_profile(nbar_nir, points, 666, from_map=True)\n",
      "transect_cubic, idx2, xy_start_end = profiles.arbitrary_profile(nbar_nir, points, 666, from_map=True, cubic=True)"
     ],
     "language": "python",
     "metadata": {},
     "outputs": []
    },
    {
     "cell_type": "code",
     "collapsed": false,
     "input": [
      "plot(transect_NN)\n",
      "title('Nearest Neighbour')"
     ],
     "language": "python",
     "metadata": {},
     "outputs": []
    },
    {
     "cell_type": "code",
     "collapsed": false,
     "input": [
      "plot(transect_cubic)\n",
      "title('Cubic Convolution')"
     ],
     "language": "python",
     "metadata": {},
     "outputs": []
    },
    {
     "cell_type": "markdown",
     "metadata": {},
     "source": [
      "The only observalble difference between the two plots is the nearest neighbour has more of a stepped appearance, while the cubic appears a little smoother."
     ]
    },
    {
     "cell_type": "markdown",
     "metadata": {},
     "source": [
      "Now we'll plot the transect over the image subset, *subset_2D*, that we created earlier.  We'll need to account for the offset between the start locations of the original image and the subset image.  We can make use of the third return argument of the ***arbitrary_profile*** function which contains the start and end pixel locations for each point.  The third return argument takes on the form:\n",
      "\n",
      "*([(xstart_1, xend_1),...,(xstart_n-1, xend_n-1)], [(ystart_1, yend_1),...,(ystart_n-1, yend_n-1)])*\n",
      "    \n",
      "Once again we'll use the tile index co-ordinates, *((2440, 3198), (2760, 3821))*, used to extract the subset."
     ]
    },
    {
     "cell_type": "code",
     "collapsed": false,
     "input": [
      "xse = [(xs - 2760, xe - 2760) for (xs, xe) in xy_start_end[0]]\n",
      "yse = [(ys - 2440, ye - 2440) for (ys, ye) in xy_start_end[1]]"
     ],
     "language": "python",
     "metadata": {},
     "outputs": []
    },
    {
     "cell_type": "code",
     "collapsed": false,
     "input": [
      "imshow(subset_2D, cmap=cm.Greys_r)\n",
      "axis('image')\n",
      "plot(xse, yse, 'r-')"
     ],
     "language": "python",
     "metadata": {},
     "outputs": []
    },
    {
     "cell_type": "markdown",
     "metadata": {},
     "source": [
      "And plotting both the image and profile data."
     ]
    },
    {
     "cell_type": "code",
     "collapsed": false,
     "input": [
      "fig, axes = subplots(nrows=2)\n",
      "axes[0].imshow(byt_subs, cmap=cm.Greys_r)\n",
      "axes[0].plot(xse, yse, 'r-')\n",
      "axes[0].axis('image')\n",
      "axes[1].plot(transect_NN)"
     ],
     "language": "python",
     "metadata": {},
     "outputs": []
    },
    {
     "cell_type": "heading",
     "level": 2,
     "metadata": {},
     "source": [
      "Pixel Quality\n",
      "<a id='pixel-quality'></a>"
     ]
    },
    {
     "cell_type": "markdown",
     "metadata": {},
     "source": [
      "Pixel quality information can be extracted from any pixel quality dataset.  In this example we'll use the PQ vrt file auto generated by our agdc query.\n",
      "First we'll create a StackedDataset object to handle the read acess of the vrt file."
     ]
    },
    {
     "cell_type": "code",
     "collapsed": false,
     "input": [
      "pq_stack = StackedDataset('/short/v10/jps547/DcubeDemo/cubby/NBAR_147_-029_PQA.vrt')"
     ],
     "language": "python",
     "metadata": {},
     "outputs": []
    },
    {
     "cell_type": "markdown",
     "metadata": {},
     "source": [
      "With this *pq_stack* data will be able to do all of the same operations as we have previously shown with the *nbar_nir* data."
     ]
    },
    {
     "cell_type": "heading",
     "level": 3,
     "metadata": {},
     "source": [
      "Customising flags\n",
      "<a id='customising-flags'></a>"
     ]
    },
    {
     "cell_type": "markdown",
     "metadata": {},
     "source": [
      "PQ flags can be extracted via the use of a function named *pq_apply_dict* available within the *pq_utils* module.  This essentially returns a dictionary with the quality flags as the *keys* and *True* boolean conditions as the values.\n",
      "Conversely there is also the *pq_apply_invert_dict* function which stores *False* as the values.\n",
      "\n",
      "Using these two dictionaries allows the user to easily decide which quality aspects to use in masking out pixels, i.e. mask out the clouds, or even the inverse i.e. keep the clouds but mask everything else out."
     ]
    },
    {
     "cell_type": "code",
     "collapsed": false,
     "input": [
      "flags = pq_utils.pq_apply_dict()\n",
      "inv_flags = pq_utils.pq_apply_invert_dict()\n",
      "print flags\n",
      "print inv_flags"
     ],
     "language": "python",
     "metadata": {},
     "outputs": []
    },
    {
     "cell_type": "heading",
     "level": 3,
     "metadata": {},
     "source": [
      "Extracting flags\n",
      "<a id='extracting-flags'></a>"
     ]
    },
    {
     "cell_type": "markdown",
     "metadata": {},
     "source": [
      "Extracting pq flags and generating a mask can be applied to either 2D or 3D tiles (or the entire iamge if you have enough memory)."
     ]
    },
    {
     "cell_type": "heading",
     "level": 4,
     "metadata": {},
     "source": [
      "2D PQ extraction\n",
      "<a id='2d-pq-extraction'></a>"
     ]
    },
    {
     "cell_type": "markdown",
     "metadata": {},
     "source": [
      "In this example, we'll use the inverted flags dictionary, to quickly turn both the cloud flags to True. Using this customisation we'll only mask out cloudy pixels.  We'll also extract an inverted cloud mask.\n",
      "\n",
      "The argument *check_zero* is to check for instances of zero values and exclude them from the mask, while the *combine* argument says to combine all the 13 pq flags into a single mask."
     ]
    },
    {
     "cell_type": "code",
     "collapsed": false,
     "input": [
      "pq_flags = inv_flags\n",
      "pq_flags['ACCA'] = True\n",
      "pq_flags['Fmask'] = True\n",
      "pq_2D_subset = pq_stack.read_tile(((2440, 3198), (2760, 3821)), 10)\n",
      "pq_2D_mask = pq_utils.extract_pq_flags(pq_2D_subset, flags=pq_flags, check_zero=True, combine=True)\n",
      "pq_2D_inv_mask = pq_utils.extract_pq_flags(pq_2D_subset, invert=pq_flags, check_zero=True, combine=True)\n",
      "print pq_2D_subset.shape\n",
      "print pq_2D_mask.shape\n",
      "print pq_2d_inv_mask.shape"
     ],
     "language": "python",
     "metadata": {},
     "outputs": []
    },
    {
     "cell_type": "code",
     "collapsed": false,
     "input": [
      "fig, axes = subplots(ncols=2)\n",
      "axes[0].imshow(pq_2D_mask, cmap=cm.Greys_r)\n",
      "axes[0].axis('image')\n",
      "axes[0].set_title('Cloud Mask')\n",
      "axes[1].imshow(pq_2D_inv_mask, cmap=cm.Greys_r)\n",
      "axes[1].axis('image')\n",
      "axes[1].set_title('Inverted Cloud Mask')\n",
      "tight_layout()"
     ],
     "language": "python",
     "metadata": {},
     "outputs": []
    },
    {
     "cell_type": "heading",
     "level": 4,
     "metadata": {},
     "source": [
      "3D PQ extraction\n",
      "<a id='3d-pq-extraction'></a>"
     ]
    },
    {
     "cell_type": "markdown",
     "metadata": {},
     "source": [
      "In this example we'll create a 3D PQ mask"
     ]
    },
    {
     "cell_type": "code",
     "collapsed": false,
     "input": [
      "pq_3D_subset = pq_stack.read_tile(((2440, 3198), (2760, 3821)), raster_bands=range(1, 7))\n",
      "pq_3D_mask = pq_utils.extract_pq_flags(pq_3D_subset, flags=pq_flags, check_zero=True, combine=True)\n",
      "pq_3D_subset.shape\n",
      "pq_3D_mask.shape"
     ],
     "language": "python",
     "metadata": {},
     "outputs": []
    },
    {
     "cell_type": "code",
     "collapsed": false,
     "input": [
      "fig, axes = subplots(nrows=2, ncols=3)\n",
      "axes[0, 0].imshow(pq_3D_mask[0])\n",
      "axes[0, 0].axis('image')\n",
      "axes[0, 0].set_title('Time Slice 1')\n",
      "axes[0, 1].imshow(pq_3D_mask[1])\n",
      "axes[0, 1].axis('image')\n",
      "axes[0, 1].set_title('Time Slice 2')\n",
      "axes[0, 2].imshow(pq_3D_mask[2])\n",
      "axes[0, 2].axis('image')\n",
      "axes[0, 2].set_title('Time Slice 3')\n",
      "axes[1, 0].imshow(pq_3D_mask[3])\n",
      "axes[1, 0].axis('image')\n",
      "axes[1, 0].set_title('Time Slice 4')\n",
      "axes[1, 1].imshow(pq_3D_mask[4])\n",
      "axes[1, 1].axis('image')\n",
      "axes[1, 1].set_title('Time Slice 5')\n",
      "axes[1, 2].imshow(pq_3D_mask[5])\n",
      "axes[1, 2].axis('image')\n",
      "axes[1, 2].set_title('Time Slice 6')\n",
      "tight_layout()"
     ],
     "language": "python",
     "metadata": {},
     "outputs": []
    },
    {
     "cell_type": "heading",
     "level": 3,
     "metadata": {},
     "source": [
      "Applying flags to another dataset\n",
      "<a id='applying-flags'></a>"
     ]
    },
    {
     "cell_type": "markdown",
     "metadata": {},
     "source": [
      "One way of masking out a dataset is to simply multiply the PQ mask against data.  This can be done for both 2D and 3D datasets.  Alternatively, as the returned PQ_mask is of type *boolean*, the array can be used as an index, and set the masked values to a no data value."
     ]
    },
    {
     "cell_type": "heading",
     "level": 4,
     "metadata": {},
     "source": [
      "2D Masked data\n",
      "<a id='2d-masked-data'></a>"
     ]
    },
    {
     "cell_type": "code",
     "collapsed": false,
     "input": [
      "masked_data_2D = subset_2D * pq_2D_mask\n",
      "inv_masked_data_2D = subset_2D * pq_2D_inv_mask"
     ],
     "language": "python",
     "metadata": {},
     "outputs": []
    },
    {
     "cell_type": "code",
     "collapsed": false,
     "input": [
      "fig, axes = subplots(ncols=2)\n",
      "axes[0].imshow(masked_data_2D, cmap=cm.Greys_r)\n",
      "axes[0].axis('image')\n",
      "axes[0].set_title('Cloud Masked Data')\n",
      "axes[1].imshow(inv_masked_data_2D, cmap=cm.Greys_r)\n",
      "axes[1].axis('image')\n",
      "axes[1].set_title('Inverted Cloud Mask Data')\n",
      "tight_layout()"
     ],
     "language": "python",
     "metadata": {},
     "outputs": []
    },
    {
     "cell_type": "code",
     "collapsed": false,
     "input": [
      "# Alternate method,\\; we'll make a copy as masking will be done in place\n",
      "subset_2D_copy = subset_2D.copy()\n",
      "subset_2D_copy[pq_2D_mask] = nbar_nir.no_data"
     ],
     "language": "python",
     "metadata": {},
     "outputs": []
    },
    {
     "cell_type": "heading",
     "level": 4,
     "metadata": {},
     "source": [
      "3D Masked data\n",
      "<a id='3d-masked-data'></a>"
     ]
    },
    {
     "cell_type": "code",
     "collapsed": false,
     "input": [
      "subset_3D = nbar_nir.read_tile(((2440, 3198), (2760, 3821)), raster_bands=range(1, 7))\n",
      "masked_data_3D = subset_3D * pq_3D_mask"
     ],
     "language": "python",
     "metadata": {},
     "outputs": []
    },
    {
     "cell_type": "code",
     "collapsed": false,
     "input": [
      "fig, axes = subplots(nrows=2, ncols=3)\n",
      "axes[0, 0].imshow(masked_data_3D[0])\n",
      "axes[0, 0].axis('image')\n",
      "axes[0, 0].set_title('Time Slice 1')\n",
      "axes[0, 1].imshow(masked_data_3D[1])\n",
      "axes[0, 1].axis('image')\n",
      "axes[0, 1].set_title('Time Slice 2')\n",
      "axes[0, 2].imshow(masked_data_3D[2])\n",
      "axes[0, 2].axis('image')\n",
      "axes[0, 2].set_title('Time Slice 3')\n",
      "axes[1, 0].imshow(masked_data_3D[3])\n",
      "axes[1, 0].axis('image')\n",
      "axes[1, 0].set_title('Time Slice 4')\n",
      "axes[1, 1].imshow(masked_data_3D[4])\n",
      "axes[1, 1].axis('image')\n",
      "axes[1, 1].set_title('Time Slice 5')\n",
      "axes[1, 2].imshow(masked_data_3D[5])\n",
      "axes[1, 2].axis('image')\n",
      "axes[1, 2].set_title('Time Slice 6')\n",
      "tight_layout()"
     ],
     "language": "python",
     "metadata": {},
     "outputs": []
    },
    {
     "cell_type": "heading",
     "level": 2,
     "metadata": {},
     "source": [
      "Statistics\n",
      "<a id='stats'></a>"
     ]
    },
    {
     "cell_type": "markdown",
     "metadata": {},
     "source": [
      "The StackedDataset class contains an in-built function to calculate 14 different statistics across the z-axis. Statistics such as sum, mean, standar deviation, median, skewness, kurtosis are evaluated quickly and efficiently.  All input/output tiling/chunking is performed automatically, all the user needs to do is supply a string containing the output filename, and the bands of interest."
     ]
    },
    {
     "cell_type": "heading",
     "level": 3,
     "metadata": {},
     "source": [
      "All raster bands\n",
      "<a id='stats-all-bands'></a>"
     ]
    },
    {
     "cell_type": "markdown",
     "metadata": {},
     "source": [
      "To calculate statistics over all raster bands we don't even need to supply a bands list.\n",
      "\n",
      "For this example we won't execute the following command:\n",
      "\n",
      "*nbar_nir.z_axis_stats(out_fname='nir_stats')*"
     ]
    },
    {
     "cell_type": "heading",
     "level": 3,
     "metadata": {},
     "source": [
      "Sequential subset of raster bands\n",
      "<a id='stats-sequential-bands'></a>"
     ]
    },
    {
     "cell_type": "markdown",
     "metadata": {},
     "source": [
      "For this example, we'll calculate statistics over the first *10* bands."
     ]
    },
    {
     "cell_type": "code",
     "collapsed": false,
     "input": [
      "nbar_nir.z_axis_stats(out_fname='nir_stats_bands_1_through_10', raster_bands=range(1, 11))"
     ],
     "language": "python",
     "metadata": {},
     "outputs": []
    },
    {
     "cell_type": "heading",
     "level": 3,
     "metadata": {},
     "source": [
      "Non-sequential subset of raster bands\n",
      "<a id='stats-non-sequential-bands'></a>"
     ]
    },
    {
     "cell_type": "markdown",
     "metadata": {},
     "source": [
      "For this example, we'll calculate statistics over bands *10, 20, 30, 40, 50, 60, 70, 80, 90, 100*."
     ]
    },
    {
     "cell_type": "code",
     "collapsed": false,
     "input": [
      "nbar_nir.z_axis_stats(out_fname='nir_stats_non_sequential', raster_bands=range(10, 101, 10))"
     ],
     "language": "python",
     "metadata": {},
     "outputs": []
    },
    {
     "cell_type": "markdown",
     "metadata": {},
     "source": [
      "As is obvious in the above 3 examples, statistics were calculates with no PQ masking applied.  A user can create a pq masked dataset and write it to disk using a methodology like that given in [Tiled/chunked array math](#tiled-math), and then create a *StackedDataset* object on the newly created file.\n",
      "\n",
      "The statistics function can also be accessed directly via the *EOtools.stats.temporal_stats* module."
     ]
    },
    {
     "cell_type": "heading",
     "level": 2,
     "metadata": {},
     "source": [
      "Tiled/chunked array math\n",
      "<a id='tiled-math'></a>"
     ]
    },
    {
     "cell_type": "markdown",
     "metadata": {},
     "source": [
      "When a StackedDataset object is created, a default tiling/chunking scheme is initialised.  This can be overridden by re-initialising the tiling and specifying the chunk sizes.  The default scheme will create tiles of *10* linesby *n_samples*."
     ]
    },
    {
     "cell_type": "heading",
     "level": 3,
     "metadata": {},
     "source": [
      "User defined tile/chunk size\n",
      "<a id='user-defined-tile-size'></a>"
     ]
    },
    {
     "cell_type": "markdown",
     "metadata": {},
     "source": [
      "We can override the default tiling scheme using the *StackedDataset.init_tiling* method.  In the below example, we'll create tiles of *100* lines by *100* samples.  We'll then show the tile co-ordinates for the *10th* tile."
     ]
    },
    {
     "cell_type": "code",
     "collapsed": false,
     "input": [
      "nbar_nir.init_tiling(xsize=100, ysize=100)\n",
      "print nbar_nir.get_tile(11) # zero based index"
     ],
     "language": "python",
     "metadata": {},
     "outputs": []
    },
    {
     "cell_type": "heading",
     "level": 3,
     "metadata": {},
     "source": [
      "Default tile/chunk size\n",
      "<a id='default-tile-size'></a>"
     ]
    },
    {
     "cell_type": "markdown",
     "metadata": {},
     "source": [
      "The default tiling scheme can be re-initialised by calling the *init_tiling* method with no arguments."
     ]
    },
    {
     "cell_type": "code",
     "collapsed": false,
     "input": [
      "nbar_nir.init_tiling()\n",
      "print nbar_nir.get_tile(11) # zero based index"
     ],
     "language": "python",
     "metadata": {},
     "outputs": []
    },
    {
     "cell_type": "heading",
     "level": 3,
     "metadata": {},
     "source": [
      "NDVI example\n",
      "<a id='ndvi-example'></a>"
     ]
    },
    {
     "cell_type": "markdown",
     "metadata": {},
     "source": [
      "We can use the tiling scheme from one *StackedDataset* with another, as long as the *x* and *y* array dimensions match.  For this example, we'll use the **red**, **nir**, and **pqa** vrt's to create a PQ filtered NDVI time series."
     ]
    }
   ],
   "metadata": {}
  }
 ]
}